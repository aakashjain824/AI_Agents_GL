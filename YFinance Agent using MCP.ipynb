{
 "cells": [
  {
   "cell_type": "markdown",
   "metadata": {
    "id": "GF6pnhJYX7gw"
   },
   "source": [
    "# Learning Objectives"
   ]
  },
  {
   "cell_type": "markdown",
   "metadata": {
    "id": "lk-Is9KxZ1br"
   },
   "source": [
    "- Understand how to define and expose Python functions as tools using the Model Context Protocol (MCP) server (`FastMCP`).\n",
    "- Learn how to configure and launch an MCP server using the `stdio` transport mechanism.\n",
    "- Grasp how to connect a LangChain/LangGraph agent to an MCP server, dynamically load the available tools, and utilize them within an agent workflow (`stdio_client`, `ClientSession`, `load_mcp_tools`)."
   ]
  },
  {
   "cell_type": "markdown",
   "metadata": {
    "id": "imnQgDfCX92L"
   },
   "source": [
    "# Setup"
   ]
  },
  {
   "cell_type": "code",
   "execution_count": null,
   "metadata": {
    "colab": {
     "base_uri": "https://localhost:8080/"
    },
    "executionInfo": {
     "elapsed": 15266,
     "status": "ok",
     "timestamp": 1753439744004,
     "user": {
      "displayName": "Henry Isaac",
      "userId": "09991029790815276174"
     },
     "user_tz": -330
    },
    "id": "uFCdmRU_s-P9",
    "outputId": "fcbca94e-3b91-463a-dab0-d75db25a7b0c"
   },
   "outputs": [
    {
     "name": "stdout",
     "output_type": "stream",
     "text": [
      "\u001b[2K     \u001b[90m━━━━━━━━━━━━━━━━━━━━━━━━━━━━━━━━━━━━━━━━\u001b[0m \u001b[32m43.7/43.7 kB\u001b[0m \u001b[31m3.0 MB/s\u001b[0m eta \u001b[36m0:00:00\u001b[0m\n",
      "\u001b[2K   \u001b[90m━━━━━━━━━━━━━━━━━━━━━━━━━━━━━━━━━━━━━━━━\u001b[0m \u001b[32m113.7/113.7 kB\u001b[0m \u001b[31m9.7 MB/s\u001b[0m eta \u001b[36m0:00:00\u001b[0m\n",
      "\u001b[2K   \u001b[90m━━━━━━━━━━━━━━━━━━━━━━━━━━━━━━━━━━━━━━━━\u001b[0m \u001b[32m1.0/1.0 MB\u001b[0m \u001b[31m30.7 MB/s\u001b[0m eta \u001b[36m0:00:00\u001b[0m\n",
      "\u001b[2K   \u001b[90m━━━━━━━━━━━━━━━━━━━━━━━━━━━━━━━━━━━━━━━━\u001b[0m \u001b[32m62.4/62.4 kB\u001b[0m \u001b[31m4.3 MB/s\u001b[0m eta \u001b[36m0:00:00\u001b[0m\n",
      "\u001b[2K   \u001b[90m━━━━━━━━━━━━━━━━━━━━━━━━━━━━━━━━━━━━━━━━\u001b[0m \u001b[32m148.2/148.2 kB\u001b[0m \u001b[31m10.7 MB/s\u001b[0m eta \u001b[36m0:00:00\u001b[0m\n",
      "\u001b[2K   \u001b[90m━━━━━━━━━━━━━━━━━━━━━━━━━━━━━━━━━━━━━━━━\u001b[0m \u001b[32m43.9/43.9 kB\u001b[0m \u001b[31m2.5 MB/s\u001b[0m eta \u001b[36m0:00:00\u001b[0m\n",
      "\u001b[2K   \u001b[90m━━━━━━━━━━━━━━━━━━━━━━━━━━━━━━━━━━━━━━━━\u001b[0m \u001b[32m50.3/50.3 kB\u001b[0m \u001b[31m4.3 MB/s\u001b[0m eta \u001b[36m0:00:00\u001b[0m\n",
      "\u001b[2K   \u001b[90m━━━━━━━━━━━━━━━━━━━━━━━━━━━━━━━━━━━━━━━━\u001b[0m \u001b[32m363.0/363.0 kB\u001b[0m \u001b[31m14.5 MB/s\u001b[0m eta \u001b[36m0:00:00\u001b[0m\n",
      "\u001b[2K   \u001b[90m━━━━━━━━━━━━━━━━━━━━━━━━━━━━━━━━━━━━━━━━\u001b[0m \u001b[32m76.1/76.1 kB\u001b[0m \u001b[31m6.4 MB/s\u001b[0m eta \u001b[36m0:00:00\u001b[0m\n",
      "\u001b[2K   \u001b[90m━━━━━━━━━━━━━━━━━━━━━━━━━━━━━━━━━━━━━━━━\u001b[0m \u001b[32m216.5/216.5 kB\u001b[0m \u001b[31m12.2 MB/s\u001b[0m eta \u001b[36m0:00:00\u001b[0m\n",
      "\u001b[2K   \u001b[90m━━━━━━━━━━━━━━━━━━━━━━━━━━━━━━━━━━━━━━━━\u001b[0m \u001b[32m45.2/45.2 kB\u001b[0m \u001b[31m2.1 MB/s\u001b[0m eta \u001b[36m0:00:00\u001b[0m\n",
      "\u001b[?25h"
     ]
    }
   ],
   "source": [
    "!pip install -q yfinance==0.2.56 \\\n",
    "                langchain==0.3.24 \\\n",
    "                langchain-openai==0.3.14 \\\n",
    "                langgraph==0.3.34 \\\n",
    "                langchain-mcp-adapters==0.0.9"
   ]
  },
  {
   "cell_type": "code",
   "execution_count": null,
   "metadata": {
    "id": "z2HRIedUzSXp"
   },
   "outputs": [],
   "source": [
    "import nest_asyncio\n",
    "nest_asyncio.apply()"
   ]
  },
  {
   "cell_type": "markdown",
   "metadata": {
    "id": "ksxLRos4aDSN"
   },
   "source": [
    "# Business Scenario\n",
    "\n",
    "Imagine a financial services company wants to build an internal AI assistant for its analysts. This assistant needs to answer questions about stocks, requiring access to real-time pricing and company information. Instead of embedding API keys or complex data-fetching logic directly into the agent (which might be running in a less secure environment or be harder to update), the company creates a dedicated MCP server.\n",
    "\n",
    "This server securely wraps the necessary functions (like querying Yahoo Finance). The analyst interacts with the AI assistant (the client-side code), which securely communicates with the MCP tool server via stdio to fetch the required data, enabling the assistant to provide informed answers without directly handling the data source interaction itself. This pattern allows for easy updates to the tools (just update the server) and better separation of concerns."
   ]
  },
  {
   "cell_type": "markdown",
   "metadata": {
    "id": "Tv6PIe7QaMtK"
   },
   "source": [
    "# Implementation Roadmap"
   ]
  },
  {
   "cell_type": "markdown",
   "metadata": {
    "id": "oh5iirjKaOpm"
   },
   "source": [
    "1. Goal: Create an LLM-based agent that can answer financial questions using real-time data from Yahoo Finance.\n",
    "2. Challenge: LLMs lack direct, real-time access to external APIs like Yahoo Finance. We need a way to provide this capability.\n",
    "3. Solution Approach: Use the Model Context Protocol (MCP) to bridge the gap.\n",
    "    - Server (`yfserver.py`):\n",
    "        - Define Tools: Create Python functions (`get_current_price`, `get_company_info`, `list_popular_tickers`) that use the yfinance library to fetch the required data.\n",
    "        - Expose Tools via MCP: Use the `FastMCP` library and the `@mcp.tool()` decorator to expose these Python functions as callable tools over the MCP protocol. The decorator helps automatically define the tool's schema (inputs, outputs, description) based on type hints and docstrings.\n",
    "        - Run the Server: Configure the MCP server to run and communicate using `stdio` (standard input/standard output). This is a simple transport mechanism suitable for local process communication.\n",
    "    - Client (Main Notebook/Script):\n",
    "        - Configure LLM: Set up the connection to the desired Large Language Model (e.g., ChatOpenAI).\n",
    "        - Launch Server Process: Define how to start the `yfserver.py` script as a separate process (`StdioServerParameters`).\n",
    "        - Establish MCP Connection: Use the `stdio_client` context manager to start the server process and get access to its stdin and stdout streams. Inside this, use the `ClientSession` context manager to establish an MCP session over these streams and perform the initial handshake (`session.initialize()`).\n",
    "        - Discover Tools: Utilize the `langchain-mcp-adapters` library (`load_mcp_tools`) to automatically query the connected MCP server, discover the available tools, and convert them into LangChain-compatible Tool objects.\n",
    "        - Create Agent: Instantiate a LangChain/LangGraph agent (like `create_react_agent`), providing it with the LLM and the dynamically loaded tools.\n",
    "        - Execute Query: Pass the user's natural language query to the agent. The agent will use the LLM to plan steps, decide when to use a tool, invoke the tool (which triggers communication over MCP to the server process), receive the results, and generate a final response.\n",
    "\n",
    "4. Rationale: This architecture decouples the agent's core reasoning logic (LLM) from the specific implementation of the tools. The MCP server acts as a secure and maintainable gateway to the external Yahoo Finance functionality. `stdio` is chosen for simplicity in this example, allowing the client script to directly manage the server process lifecycle. The `langchain-mcp-adapters` library simplifies the integration by handling the MCP communication details and tool conversion automatically."
   ]
  },
  {
   "cell_type": "markdown",
   "metadata": {
    "id": "bDyhrELBa8Zj"
   },
   "source": [
    "# Server-side Implementation"
   ]
  },
  {
   "cell_type": "code",
   "execution_count": null,
   "metadata": {
    "colab": {
     "base_uri": "https://localhost:8080/"
    },
    "executionInfo": {
     "elapsed": 19,
     "status": "ok",
     "timestamp": 1753439744050,
     "user": {
      "displayName": "Henry Isaac",
      "userId": "09991029790815276174"
     },
     "user_tz": -330
    },
    "id": "fx_94RH16F-C",
    "outputId": "7d5a25b3-f070-4d43-b62c-cf909dfde424"
   },
   "outputs": [
    {
     "name": "stdout",
     "output_type": "stream",
     "text": [
      "Writing yfserver.py\n"
     ]
    }
   ],
   "source": [
    "# -- SERVER SIDE --\n",
    "\n",
    "%%writefile yfserver.py\n",
    "\n",
    "\n",
    "import yfinance as yf\n",
    "\n",
    "from typing import List, Dict, Any, Optional\n",
    "from pydantic import BaseModel\n",
    "from datetime import datetime\n",
    "\n",
    "from mcp.server.fastmcp import FastMCP, Context\n",
    "\n",
    "mcp = FastMCP(\"Yahoo Finance API\")\n",
    "\n",
    "class SectorFilter(BaseModel):\n",
    "    sector: Optional[str] = None\n",
    "\n",
    "@mcp.tool()\n",
    "def get_current_price(ticker: str, ctx: Context = None) -> Dict[str, Any]:\n",
    "    \"\"\"\n",
    "    Fetch the current price of a stock\n",
    "\n",
    "    Args:\n",
    "        ticker: Stock symbol (e.g., AAPL, MSFT)\n",
    "    \"\"\"\n",
    "    if ctx:\n",
    "        ctx.info(f\"Fetching current price for {ticker}\") # Server-side logging via MCP context\n",
    "\n",
    "    try:\n",
    "        ticker_obj = yf.Ticker(ticker)\n",
    "        # Get the last closing price as a proxy for \"current\" price\n",
    "        hist = ticker_obj.history(period=\"1d\")\n",
    "        if hist.empty:\n",
    "            return {\"error\": \"No data available\"}\n",
    "\n",
    "        price = hist['Close'].iloc[-1]\n",
    "        return {\n",
    "            \"symbol\": ticker,\n",
    "            \"price\": round(price, 2),\n",
    "            \"currency\": \"USD\",\n",
    "            \"timestamp\": datetime.now().isoformat()\n",
    "        }\n",
    "    except Exception as e:\n",
    "        return {\"error\": str(e)}\n",
    "\n",
    "@mcp.tool()\n",
    "def get_company_info(ticker: str, ctx: Context = None) -> Dict[str, Any]:\n",
    "    \"\"\"\n",
    "    Get detailed company information\n",
    "\n",
    "    Args:\n",
    "        ticker: Stock symbol (e.g., AAPL, MSFT)\n",
    "    \"\"\"\n",
    "    if ctx:\n",
    "        ctx.info(f\"Fetching company information for {ticker}\")\n",
    "\n",
    "    try:\n",
    "        ticker_obj = yf.Ticker(ticker)\n",
    "        info = ticker_obj.info\n",
    "\n",
    "        # Extract relevant fields\n",
    "        relevant_info = {\n",
    "            \"symbol\": ticker,\n",
    "            \"name\": info.get(\"shortName\", \"Unknown\"),\n",
    "            \"longName\": info.get(\"longName\", \"Unknown\"),\n",
    "            \"sector\": info.get(\"sector\", \"Unknown\"),\n",
    "            \"industry\": info.get(\"industry\", \"Unknown\"),\n",
    "            \"website\": info.get(\"website\", \"Unknown\"),\n",
    "            \"marketCap\": info.get(\"marketCap\", None),\n",
    "            \"forwardPE\": info.get(\"forwardPE\", None),\n",
    "            \"dividendYield\": info.get(\"dividendYield\", None) if info.get(\"dividendYield\") else None,\n",
    "            \"trailingEps\": info.get(\"trailingEps\", None),\n",
    "            \"description\": info.get(\"longBusinessSummary\", \"No description available\")\n",
    "        }\n",
    "\n",
    "        return relevant_info\n",
    "    except Exception as e:\n",
    "        return {\"error\": str(e)}\n",
    "\n",
    "@mcp.tool()\n",
    "def list_popular_tickers(filter: SectorFilter = SectorFilter()) -> Dict[str, Any]:\n",
    "    \"\"\"\n",
    "    List popular stock tickers, optionally filtered by sector\n",
    "\n",
    "    Args:\n",
    "        filter: SectorFilter with optional sector name (Technology, Consumer, Financial, Healthcare, Energy)\n",
    "    \"\"\"\n",
    "\n",
    "    # Hardcoded list for simplicity\n",
    "    popular_tickers = {\n",
    "        \"Technology\": [\"AAPL\", \"MSFT\", \"GOOGL\", \"META\", \"NVDA\"],\n",
    "        \"Consumer\": [\"AMZN\", \"WMT\", \"COST\", \"MCD\", \"NKE\"],\n",
    "        \"Financial\": [\"JPM\", \"BAC\", \"V\", \"MA\", \"BRK-B\"],\n",
    "        \"Healthcare\": [\"JNJ\", \"PFE\", \"UNH\", \"ABBV\", \"MRK\"],\n",
    "        \"Energy\": [\"XOM\", \"CVX\", \"COP\", \"SLB\", \"EOG\"]\n",
    "    }\n",
    "\n",
    "    sector = filter.sector\n",
    "\n",
    "    if sector and sector in popular_tickers:\n",
    "         # Return tickers for the specified sector\n",
    "        return {\n",
    "            \"sector\": sector,\n",
    "            \"tickers\": [{\n",
    "                \"symbol\": symbol,\n",
    "                \"uri\": f\"/tickers/{symbol}\"\n",
    "            } for symbol in popular_tickers[sector]]\n",
    "        }\n",
    "    elif sector:\n",
    "        # Handle invalid sector input\n",
    "        return {\"error\": f\"Sector '{sector}' not found\", \"available_sectors\": list(popular_tickers.keys())}\n",
    "    else:\n",
    "        # Return all popular tickers if no sector is specified\n",
    "        result = {}\n",
    "        for sector, tickers in popular_tickers.items():\n",
    "            result[sector] = [{\n",
    "                \"symbol\": symbol,\n",
    "                \"uri\": f\"/tickers/{symbol}\"\n",
    "            } for symbol in tickers]\n",
    "        return result\n",
    "\n",
    "if __name__ == \"__main__\":\n",
    "    mcp.run(transport='stdio')"
   ]
  },
  {
   "cell_type": "markdown",
   "metadata": {
    "id": "-HO3M-cQcQfm"
   },
   "source": [
    "In the above code block:\n",
    "- `%%writefile yfserver.py`: This Jupyter/Colab magic command saves the content of this cell into a file named `yfserver.py`. This file contains the server-side logic.\n",
    "- `mcp = FastMCP(\"Yahoo Finance API\")`: Initializes an MCP server instance, giving it a descriptive name.\n",
    "- `class SectorFilter(BaseModel)`: Defines a Pydantic model to represent the expected structure for the filter argument in `list_popular_tickers`. It allows an optional sector string. Pydantic handles validation.\n",
    "- `@mcp.tool()`: This decorator registers the decorated Python function (get_current_price, get_company_info, list_popular_tickers) as a tool accessible via the MCP protocol. MCP automatically uses the function's signature (name, arguments, type hints) and docstring to create a schema/description for the tool, which the client can discover.\n",
    "- Tool Functions (`get_current_price`, etc.):\n",
    "    - These functions implement the actual logic using the yfinance library.\n",
    "    - They accept arguments as defined in their signature (e.g., `ticker: str`). `list_popular_tickers` uses the `SectorFilter` Pydantic model for its filter argument.\n",
    "    - They include basic try...except blocks to handle potential errors during API calls and return an error dictionary if something goes wrong.\n",
    "    - They return data structured as Python dictionaries, which MCP will serialize (likely to JSON) for transport.\n",
    "    - The optional `ctx: Context` argument allows access to MCP server context, used here for logging (ctx.info).\n",
    "- `if __name__ == \"__main__\": mcp.run(transport='stdio')`: This standard Python construct ensures that `mcp.run()` is called only when the script `yfserver.py` is executed directly. `mcp.run(transport='stdio')` starts the MCP server, making it listen for requests and send responses via the process's standard input and standard output streams."
   ]
  },
  {
   "cell_type": "markdown",
   "metadata": {
    "id": "M9tsKWdjcwwI"
   },
   "source": [
    "# Client-side Implementation"
   ]
  },
  {
   "cell_type": "markdown",
   "metadata": {
    "id": "wrncFMVec4KZ"
   },
   "source": [
    "## Setting up server access"
   ]
  },
  {
   "cell_type": "code",
   "execution_count": null,
   "metadata": {
    "id": "MJGk8lIqCsCv"
   },
   "outputs": [],
   "source": [
    "# -- Client Side --\n",
    "import os\n",
    "import asyncio\n",
    "import subprocess\n",
    "\n",
    "from mcp import ClientSession, StdioServerParameters\n",
    "from mcp.client.stdio import stdio_client\n",
    "\n",
    "from langchain_mcp_adapters.tools import load_mcp_tools\n",
    "from langgraph.prebuilt import create_react_agent\n",
    "\n",
    "from langchain_openai import AzureChatOpenAI\n",
    "from google.colab import userdata"
   ]
  },
  {
   "cell_type": "code",
   "execution_count": null,
   "metadata": {
    "id": "SdBy99-NDqKH"
   },
   "outputs": [],
   "source": [
    "import nest_asyncio\n",
    "nest_asyncio.apply()"
   ]
  },
  {
   "cell_type": "code",
   "execution_count": null,
   "metadata": {
    "id": "1DyAm0O3DNYx"
   },
   "outputs": [],
   "source": [
    "azure_api_key = userdata.get('azure_api_key')\n",
    "# Modify the Azure Endpoint and the API Versions as needed\n",
    "azure_base_url = \"https://oait3st.cognitiveservices.azure.com/\"\n",
    "azure_api_version = \"2024-12-01-preview\""
   ]
  },
  {
   "cell_type": "code",
   "execution_count": null,
   "metadata": {
    "id": "jSrV8CyFDCcu"
   },
   "outputs": [],
   "source": [
    "llm = AzureChatOpenAI(\n",
    "    azure_endpoint=azure_base_url,\n",
    "    api_key=azure_api_key,\n",
    "    api_version=azure_api_version,\n",
    "    model='gpt-4o-mini',\n",
    "    temperature=0\n",
    ")"
   ]
  },
  {
   "cell_type": "code",
   "execution_count": null,
   "metadata": {
    "id": "vnjubezsDOrD"
   },
   "outputs": [],
   "source": [
    "server_params = StdioServerParameters(\n",
    "    command=\"python\",\n",
    "    args=['yfserver.py']\n",
    ")"
   ]
  },
  {
   "cell_type": "markdown",
   "metadata": {
    "id": "8S_AcKv4c7Ao"
   },
   "source": [
    "In the above code block:\n",
    "- `StdioServerParameters:` Configures how the client should launch the server process. It specifies the command (python) and the arguments (`yfserver.py`). This tells `stdio_client` how to start the server when needed."
   ]
  },
  {
   "cell_type": "markdown",
   "metadata": {
    "id": "DiJB5WRBdG6c"
   },
   "source": [
    "## Main asynchronous function"
   ]
  },
  {
   "cell_type": "code",
   "execution_count": null,
   "metadata": {
    "id": "7qU_9bWYDWkD"
   },
   "outputs": [],
   "source": [
    "async def main(user_query):\n",
    "    print(f\"Starting MCP client for query: '{user_query}'\")\n",
    "    agent_response = None # Initialize response variable\n",
    "    try:\n",
    "        # Start the server process and establish stdio communication channels\n",
    "        async with stdio_client(server_params, errlog=subprocess.PIPE) as (read, write):\n",
    "            print(\"stdio_client connected. Initializing ClientSession...\")\n",
    "            try:\n",
    "                # Establish an MCP session over the stdio channels\n",
    "                async with ClientSession(read, write) as session:\n",
    "                    await session.initialize() # Perform MCP handshake\n",
    "                    print(\"ClientSession initialized. Loading tools...\")\n",
    "                    # Discover and load tools from the server via MCP\n",
    "                    tools = await load_mcp_tools(session)\n",
    "                    print(f\"Tools loaded: {[tool.name for tool in tools]}\")\n",
    "                    print(\"Creating agent...\")\n",
    "                    # Create a ReAct agent with the LLM and loaded tools\n",
    "                    agent = create_react_agent(llm, tools)\n",
    "                    print(\"Invoking agent...\")\n",
    "                    # Prepare input for the agent\n",
    "                    agent_input = {\"messages\": [(\"user\", user_query)]}\n",
    "                    agent_response = await agent.ainvoke(agent_input)\n",
    "                    print(\"Agent finished.\")\n",
    "            except Exception as session_err:\n",
    "                # Handle errors specific to the ClientSession context\n",
    "                 print(f\"\\n--- ERROR within ClientSession context ---\")\n",
    "                 import traceback\n",
    "                 traceback.print_exc()\n",
    "                 agent_response = {\"error\": \"ClientSession failed\", \"details\": str(session_err)}\n",
    "\n",
    "        # If we exit stdio_client normally, agent_response holds the result or None\n",
    "        return agent_response\n",
    "    except Exception as e:\n",
    "        # Catch errors during stdio_client setup/teardown or other unexpected issues\n",
    "        print(f\"\\n--- ERROR: An unexpected error occurred outside ClientSession ---\")\n",
    "        import traceback\n",
    "        traceback.print_exc()\n",
    "        print(\"---------------------------------------------------------------\")\n",
    "        return {\"error\": \"Agent execution failed unexpectedly\", \"details\": str(e)}\n"
   ]
  },
  {
   "cell_type": "markdown",
   "metadata": {
    "id": "gCoDDZkxdwzc"
   },
   "source": [
    "In the above code block:\n",
    "- `async def main(user_query)`: Defines an asynchronous function that encapsulates the client logic for processing a single user query.\n",
    "- `async with stdio_client(...)`: This asynchronous context manager:\n",
    "    - Starts the server process using the `server_params` defined earlier (`python yfserver.py`).\n",
    "    - Establishes communication by connecting to the server process's standard input and output.\n",
    "    - Provides read and write asynchronous stream objects for communication.\n",
    "    - `errlog=subprocess.PIPE` captures the server's standard error stream, useful for debugging server-side issues.\n",
    "    - Ensures the server process is properly terminated when the context is exited.\n",
    "- `async with ClientSession(read, write)`: Inside the `stdio_client` context, this creates an MCP `ClientSession` using the provided read and write streams. This session manages the MCP protocol communication.\n",
    "- `await session.initialize()`: Performs the essential MCP handshake between the client and the server. During this phase, the client typically learns about the server's capabilities, including the available tools.\n",
    "- `tools = await load_mcp_tools(session)`: This is the key integration point provided by langchain-mcp-adapters. It communicates with the initialized MCP session, discovers the tools defined on the server (like `get_current_price`), and automatically wraps them into LangChain-compatible Tool objects.\n",
    "- `agent = create_react_agent(llm, tools)`: Creates a LangGraph agent using the create_react_agent prebuilt graph. It's configured with the llm and the list of tools obtained from the MCP server. The ReAct (Reasoning and Acting) agent framework allows the LLM to reason about which tool to use, invoke it, observe the result, and continue until it can answer the query.\n",
    "- `agent_input = ...`: Formats the user query into the expected input structure for the LangGraph agent (a list of messages).\n",
    "- `agent_response = await agent.ainvoke(agent_input)`: Executes the agent asynchronously with the user query. The agent will now potentially call the MCP tools (triggering communication through the ClientSession -> stdio_client -> server process) as part of its reasoning process.\n",
    "- Error Handling: Includes `try...except` blocks to catch and report errors that might occur during the connection, session initialization, tool loading, or agent execution phases."
   ]
  },
  {
   "cell_type": "markdown",
   "metadata": {
    "id": "ng6PYaBaImI8"
   },
   "source": [
    "### Example 1"
   ]
  },
  {
   "cell_type": "code",
   "execution_count": null,
   "metadata": {
    "id": "FrrVe6iMDd5n"
   },
   "outputs": [],
   "source": [
    "user_query = \"Apple company information?\""
   ]
  },
  {
   "cell_type": "code",
   "execution_count": null,
   "metadata": {
    "colab": {
     "base_uri": "https://localhost:8080/"
    },
    "executionInfo": {
     "elapsed": 5337,
     "status": "ok",
     "timestamp": 1753439768369,
     "user": {
      "displayName": "Henry Isaac",
      "userId": "09991029790815276174"
     },
     "user_tz": -330
    },
    "id": "EAlb4Z4GDkz3",
    "outputId": "7ff6a89f-f041-4185-da97-5031d05cafc2"
   },
   "outputs": [
    {
     "name": "stdout",
     "output_type": "stream",
     "text": [
      "Starting MCP client for query: 'Apple company information?'\n",
      "stdio_client connected. Initializing ClientSession...\n",
      "ClientSession initialized. Loading tools...\n",
      "Tools loaded: ['get_current_price', 'get_company_info', 'list_popular_tickers']\n",
      "Creating agent...\n",
      "Invoking agent...\n",
      "Agent finished.\n"
     ]
    }
   ],
   "source": [
    "response = asyncio.run(main(user_query))"
   ]
  },
  {
   "cell_type": "code",
   "execution_count": null,
   "metadata": {
    "colab": {
     "base_uri": "https://localhost:8080/"
    },
    "executionInfo": {
     "elapsed": 15,
     "status": "ok",
     "timestamp": 1753439768389,
     "user": {
      "displayName": "Henry Isaac",
      "userId": "09991029790815276174"
     },
     "user_tz": -330
    },
    "id": "4J50ZIFOG4XV",
    "outputId": "2a8ee9c7-70c2-4b62-e99f-bbf36b660443"
   },
   "outputs": [
    {
     "name": "stdout",
     "output_type": "stream",
     "text": [
      "Here is the company information for Apple Inc. (Ticker: AAPL):\n",
      "\n",
      "- **Name**: Apple Inc.\n",
      "- **Sector**: Technology\n",
      "- **Industry**: Consumer Electronics\n",
      "- **Website**: [apple.com](https://www.apple.com)\n",
      "- **Market Capitalization**: $3.19 trillion\n",
      "- **Forward P/E Ratio**: 25.72\n",
      "- **Dividend Yield**: 0.49%\n",
      "- **Trailing EPS**: $6.41\n",
      "\n",
      "**Description**: \n",
      "Apple Inc. designs, manufactures, and markets smartphones, personal computers, tablets, wearables, and accessories worldwide. The company offers a range of products including:\n",
      "- **iPhone**: A line of smartphones\n",
      "- **Mac**: A line of personal computers\n",
      "- **iPad**: A line of multi-purpose tablets\n",
      "- **Wearables and Accessories**: Includes AirPods, Apple TV, Apple Watch, Beats products, and HomePod.\n",
      "\n",
      "Apple also provides support services like AppleCare and cloud services, and operates platforms such as the App Store for applications and digital content. Additionally, it offers various subscription-based services including Apple Arcade, Apple Fitness+, Apple Music, Apple News+, Apple TV+, Apple Card, and Apple Pay.\n",
      "\n",
      "Apple Inc. serves consumers, small and mid-sized businesses, as well as the education, enterprise, and government markets. The company was founded in 1976 and is headquartered in Cupertino, California.\n"
     ]
    }
   ],
   "source": [
    "print(response['messages'][-1].content)"
   ]
  },
  {
   "cell_type": "markdown",
   "metadata": {
    "id": "sYvftynqIolv"
   },
   "source": [
    "### Example 2"
   ]
  },
  {
   "cell_type": "code",
   "execution_count": null,
   "metadata": {
    "id": "eml7i38GHk0G"
   },
   "outputs": [],
   "source": [
    "user_query = \"Give me detailed company information about some popular stocks in the Technology sector\""
   ]
  },
  {
   "cell_type": "code",
   "execution_count": null,
   "metadata": {
    "colab": {
     "base_uri": "https://localhost:8080/"
    },
    "executionInfo": {
     "elapsed": 11451,
     "status": "ok",
     "timestamp": 1753439779845,
     "user": {
      "displayName": "Henry Isaac",
      "userId": "09991029790815276174"
     },
     "user_tz": -330
    },
    "id": "5m_d_3BNI4JP",
    "outputId": "ae3a701f-b3cc-4bce-b1ac-fe892891308c"
   },
   "outputs": [
    {
     "name": "stdout",
     "output_type": "stream",
     "text": [
      "Starting MCP client for query: 'Give me detailed company information about some popular stocks in the Technology sector'\n",
      "stdio_client connected. Initializing ClientSession...\n",
      "ClientSession initialized. Loading tools...\n",
      "Tools loaded: ['get_current_price', 'get_company_info', 'list_popular_tickers']\n",
      "Creating agent...\n",
      "Invoking agent...\n",
      "Agent finished.\n"
     ]
    }
   ],
   "source": [
    "response = asyncio.run(main(user_query))"
   ]
  },
  {
   "cell_type": "code",
   "execution_count": null,
   "metadata": {
    "colab": {
     "base_uri": "https://localhost:8080/"
    },
    "executionInfo": {
     "elapsed": 26,
     "status": "ok",
     "timestamp": 1753439779874,
     "user": {
      "displayName": "Henry Isaac",
      "userId": "09991029790815276174"
     },
     "user_tz": -330
    },
    "id": "mhYUu5rMI5mw",
    "outputId": "695a0273-0f98-454e-da4b-18768bc26386"
   },
   "outputs": [
    {
     "name": "stdout",
     "output_type": "stream",
     "text": [
      "Here is the detailed company information for some popular stocks in the Technology sector:\n",
      "\n",
      "### 1. Apple Inc. (AAPL)\n",
      "- **Name:** Apple Inc.\n",
      "- **Sector:** Technology\n",
      "- **Industry:** Consumer Electronics\n",
      "- **Website:** [apple.com](https://www.apple.com)\n",
      "- **Market Cap:** $3.19 trillion\n",
      "- **Forward P/E:** 25.72\n",
      "- **Dividend Yield:** 0.49%\n",
      "- **Trailing EPS:** 6.41\n",
      "- **Description:** Apple Inc. designs, manufactures, and markets smartphones, personal computers, tablets, wearables, and accessories worldwide. The company offers products like the iPhone, Mac, iPad, and various subscription-based services. Founded in 1976, it is headquartered in Cupertino, California.\n",
      "\n",
      "---\n",
      "\n",
      "### 2. Microsoft Corporation (MSFT)\n",
      "- **Name:** Microsoft Corporation\n",
      "- **Sector:** Technology\n",
      "- **Industry:** Software - Infrastructure\n",
      "- **Website:** [microsoft.com](https://www.microsoft.com)\n",
      "- **Market Cap:** $3.80 trillion\n",
      "- **Forward P/E:** 34.17\n",
      "- **Dividend Yield:** 0.65%\n",
      "- **Trailing EPS:** 12.93\n",
      "- **Description:** Microsoft develops and supports software, services, devices, and solutions worldwide. Its segments include Productivity and Business Processes, Intelligent Cloud, and More Personal Computing. Founded in 1975, it is headquartered in Redmond, Washington.\n",
      "\n",
      "---\n",
      "\n",
      "### 3. Alphabet Inc. (GOOGL)\n",
      "- **Name:** Alphabet Inc.\n",
      "- **Sector:** Communication Services\n",
      "- **Industry:** Internet Content & Information\n",
      "- **Website:** [abc.xyz](https://abc.xyz)\n",
      "- **Market Cap:** $2.33 trillion\n",
      "- **Forward P/E:** 21.45\n",
      "- **Dividend Yield:** 0.44%\n",
      "- **Trailing EPS:** 9.38\n",
      "- **Description:** Alphabet offers various products and platforms, including Google Services, Google Cloud, and Other Bets. It provides services like ads, Android, YouTube, and Google Workspace. Founded in 1998, it is headquartered in Mountain View, California.\n",
      "\n",
      "---\n",
      "\n",
      "### 4. Meta Platforms, Inc. (META)\n",
      "- **Name:** Meta Platforms, Inc.\n",
      "- **Sector:** Communication Services\n",
      "- **Industry:** Internet Content & Information\n",
      "- **Website:** [investor.atmeta.com](https://investor.atmeta.com)\n",
      "- **Market Cap:** $1.80 trillion\n",
      "- **Forward P/E:** 28.25\n",
      "- **Dividend Yield:** 0.29%\n",
      "- **Trailing EPS:** 25.59\n",
      "- **Description:** Meta develops products that enable people to connect and share through various platforms, including Facebook, Instagram, and WhatsApp. It also focuses on virtual and augmented reality. Founded in 2004, it is headquartered in Menlo Park, California.\n",
      "\n",
      "---\n",
      "\n",
      "### 5. NVIDIA Corporation (NVDA)\n",
      "- **Name:** NVIDIA Corporation\n",
      "- **Sector:** Technology\n",
      "- **Industry:** Semiconductors\n",
      "- **Website:** [nvidia.com](https://www.nvidia.com)\n",
      "- **Market Cap:** $4.24 trillion\n",
      "- **Forward P/E:** 42.17\n",
      "- **Dividend Yield:** 0.02%\n",
      "- **Trailing EPS:** 3.09\n",
      "- **Description:** NVIDIA provides graphics and compute solutions, focusing on gaming, professional visualization, data center, and automotive markets. It offers products like GeForce GPUs and AI solutions. Founded in 1993, it is headquartered in Santa Clara, California.\n",
      "\n",
      "--- \n",
      "\n",
      "If you need more information or details about other companies, feel free to ask!\n"
     ]
    }
   ],
   "source": [
    "print(response['messages'][-1].content)"
   ]
  },
  {
   "cell_type": "markdown",
   "metadata": {
    "id": "G8crDEfjAdLx"
   },
   "source": [
    "<font size=6; color='blue'> **Happy Learning!** </font>\n",
    "___"
   ]
  }
 ],
 "metadata": {
  "colab": {
   "provenance": [
    {
     "file_id": "1uRg_9AKrcTKUBTpC3zYq_6dE7S3YvIlr",
     "timestamp": 1745989849704
    }
   ]
  },
  "kernelspec": {
   "display_name": "Python 3",
   "name": "python3"
  },
  "language_info": {
   "name": "python"
  }
 },
 "nbformat": 4,
 "nbformat_minor": 0
}
